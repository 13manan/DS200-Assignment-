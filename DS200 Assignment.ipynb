{
 "cells": [
  {
   "cell_type": "code",
   "execution_count": 14,
   "metadata": {},
   "outputs": [],
   "source": [
    "import matplotlib as mp\n"
   ]
  },
  {
   "cell_type": "code",
   "execution_count": 15,
   "metadata": {},
   "outputs": [],
   "source": [
    "import pandas as pd"
   ]
  },
  {
   "cell_type": "code",
   "execution_count": 16,
   "metadata": {},
   "outputs": [],
   "source": [
    "data = pd.read_csv(\"/home/gauss/Desktop/A2.csv\")"
   ]
  },
  {
   "cell_type": "code",
   "execution_count": 17,
   "metadata": {},
   "outputs": [
    {
     "data": {
      "text/html": [
       "<div>\n",
       "<style scoped>\n",
       "    .dataframe tbody tr th:only-of-type {\n",
       "        vertical-align: middle;\n",
       "    }\n",
       "\n",
       "    .dataframe tbody tr th {\n",
       "        vertical-align: top;\n",
       "    }\n",
       "\n",
       "    .dataframe thead th {\n",
       "        text-align: right;\n",
       "    }\n",
       "</style>\n",
       "<table border=\"1\" class=\"dataframe\">\n",
       "  <thead>\n",
       "    <tr style=\"text-align: right;\">\n",
       "      <th></th>\n",
       "      <th>Year</th>\n",
       "      <th>Crude Oil</th>\n",
       "      <th>LPG</th>\n",
       "      <th>Petrol</th>\n",
       "      <th>Naphtha</th>\n",
       "      <th>Turbine Fuel</th>\n",
       "      <th>Kerosene</th>\n",
       "      <th>Diesel</th>\n",
       "      <th>Lubes</th>\n",
       "      <th>Fuel Oil</th>\n",
       "      <th>...</th>\n",
       "      <th>Product Export - Kerosene</th>\n",
       "      <th>Product Export - Diesel</th>\n",
       "      <th>Product Export - Lubes</th>\n",
       "      <th>Product Export - Fuel Oil</th>\n",
       "      <th>Product Export - Bitumen</th>\n",
       "      <th>Product Export - Petcoke/CBFS</th>\n",
       "      <th>Product Export - Others</th>\n",
       "      <th>Total Export</th>\n",
       "      <th>Net Import</th>\n",
       "      <th>Net Product Export</th>\n",
       "    </tr>\n",
       "  </thead>\n",
       "  <tbody>\n",
       "    <tr>\n",
       "      <th>0</th>\n",
       "      <td>2011-12</td>\n",
       "      <td>171729</td>\n",
       "      <td>5790</td>\n",
       "      <td>654</td>\n",
       "      <td>2091</td>\n",
       "      <td>0</td>\n",
       "      <td>564</td>\n",
       "      <td>1059</td>\n",
       "      <td>1434</td>\n",
       "      <td>1203</td>\n",
       "      <td>...</td>\n",
       "      <td>34</td>\n",
       "      <td>20491</td>\n",
       "      <td>27</td>\n",
       "      <td>7895</td>\n",
       "      <td>5</td>\n",
       "      <td>726</td>\n",
       "      <td>2262</td>\n",
       "      <td>60837</td>\n",
       "      <td>126741</td>\n",
       "      <td>44988</td>\n",
       "    </tr>\n",
       "    <tr>\n",
       "      <th>1</th>\n",
       "      <td>2012-13</td>\n",
       "      <td>184795</td>\n",
       "      <td>6301</td>\n",
       "      <td>147</td>\n",
       "      <td>1762</td>\n",
       "      <td>0</td>\n",
       "      <td>0</td>\n",
       "      <td>528</td>\n",
       "      <td>1977</td>\n",
       "      <td>1038</td>\n",
       "      <td>...</td>\n",
       "      <td>23</td>\n",
       "      <td>22464</td>\n",
       "      <td>59</td>\n",
       "      <td>5922</td>\n",
       "      <td>87</td>\n",
       "      <td>1317</td>\n",
       "      <td>3367</td>\n",
       "      <td>63408</td>\n",
       "      <td>137742</td>\n",
       "      <td>47054</td>\n",
       "    </tr>\n",
       "    <tr>\n",
       "      <th>2</th>\n",
       "      <td>2013-14</td>\n",
       "      <td>189238</td>\n",
       "      <td>6567</td>\n",
       "      <td>235</td>\n",
       "      <td>1020</td>\n",
       "      <td>0</td>\n",
       "      <td>0</td>\n",
       "      <td>77</td>\n",
       "      <td>2090</td>\n",
       "      <td>1331</td>\n",
       "      <td>...</td>\n",
       "      <td>15</td>\n",
       "      <td>26469</td>\n",
       "      <td>20</td>\n",
       "      <td>6159</td>\n",
       "      <td>95</td>\n",
       "      <td>1698</td>\n",
       "      <td>3867</td>\n",
       "      <td>67864</td>\n",
       "      <td>138071</td>\n",
       "      <td>51167</td>\n",
       "    </tr>\n",
       "    <tr>\n",
       "      <th>3</th>\n",
       "      <td>2014-15</td>\n",
       "      <td>189435</td>\n",
       "      <td>8313</td>\n",
       "      <td>372</td>\n",
       "      <td>1034</td>\n",
       "      <td>140</td>\n",
       "      <td>30</td>\n",
       "      <td>124</td>\n",
       "      <td>2148</td>\n",
       "      <td>902</td>\n",
       "      <td>...</td>\n",
       "      <td>15</td>\n",
       "      <td>25559</td>\n",
       "      <td>11</td>\n",
       "      <td>4762</td>\n",
       "      <td>94</td>\n",
       "      <td>613</td>\n",
       "      <td>4047</td>\n",
       "      <td>63932</td>\n",
       "      <td>146804</td>\n",
       "      <td>42631</td>\n",
       "    </tr>\n",
       "    <tr>\n",
       "      <th>4</th>\n",
       "      <td>2015-16</td>\n",
       "      <td>202850</td>\n",
       "      <td>8959</td>\n",
       "      <td>1012</td>\n",
       "      <td>2931</td>\n",
       "      <td>286</td>\n",
       "      <td>41</td>\n",
       "      <td>177</td>\n",
       "      <td>2264</td>\n",
       "      <td>1170</td>\n",
       "      <td>...</td>\n",
       "      <td>10</td>\n",
       "      <td>24037</td>\n",
       "      <td>17</td>\n",
       "      <td>2806</td>\n",
       "      <td>101</td>\n",
       "      <td>840</td>\n",
       "      <td>2914</td>\n",
       "      <td>60539</td>\n",
       "      <td>171768</td>\n",
       "      <td>31083</td>\n",
       "    </tr>\n",
       "  </tbody>\n",
       "</table>\n",
       "<p>5 rows × 28 columns</p>\n",
       "</div>"
      ],
      "text/plain": [
       "      Year  Crude Oil   LPG  Petrol  Naphtha  Turbine Fuel   Kerosene  Diesel  \\\n",
       "0  2011-12     171729  5790     654     2091             0        564    1059   \n",
       "1  2012-13     184795  6301     147     1762             0          0     528   \n",
       "2  2013-14     189238  6567     235     1020             0          0      77   \n",
       "3  2014-15     189435  8313     372     1034           140         30     124   \n",
       "4  2015-16     202850  8959    1012     2931           286         41     177   \n",
       "\n",
       "   Lubes  Fuel Oil  ...  Product Export - Kerosene  Product Export - Diesel  \\\n",
       "0   1434      1203  ...                         34                    20491   \n",
       "1   1977      1038  ...                         23                    22464   \n",
       "2   2090      1331  ...                         15                    26469   \n",
       "3   2148       902  ...                         15                    25559   \n",
       "4   2264      1170  ...                         10                    24037   \n",
       "\n",
       "   Product Export - Lubes  Product Export - Fuel Oil  \\\n",
       "0                      27                       7895   \n",
       "1                      59                       5922   \n",
       "2                      20                       6159   \n",
       "3                      11                       4762   \n",
       "4                      17                       2806   \n",
       "\n",
       "   Product Export - Bitumen  Product Export - Petcoke/CBFS  \\\n",
       "0                         5                            726   \n",
       "1                        87                           1317   \n",
       "2                        95                           1698   \n",
       "3                        94                            613   \n",
       "4                       101                            840   \n",
       "\n",
       "   Product Export - Others  Total Export  Net Import  Net Product Export  \n",
       "0                     2262         60837      126741               44988  \n",
       "1                     3367         63408      137742               47054  \n",
       "2                     3867         67864      138071               51167  \n",
       "3                     4047         63932      146804               42631  \n",
       "4                     2914         60539      171768               31083  \n",
       "\n",
       "[5 rows x 28 columns]"
      ]
     },
     "execution_count": 17,
     "metadata": {},
     "output_type": "execute_result"
    }
   ],
   "source": [
    "data.head(10)\n",
    "#data.transpose()\n",
    "#data.columns = data.iloc[0]\n",
    "data.head()"
   ]
  },
  {
   "cell_type": "code",
   "execution_count": 18,
   "metadata": {},
   "outputs": [
    {
     "data": {
      "text/plain": [
       "Text(0, 0.5, 'Barrels per day')"
      ]
     },
     "execution_count": 18,
     "metadata": {},
     "output_type": "execute_result"
    },
    {
     "data": {
      "image/png": "[encoded data removed]",
      "text/plain": [
       "<Figure size 432x288 with 1 Axes>"
      ]
     },
     "metadata": {
      "needs_background": "light"
     },
     "output_type": "display_data"
    }
   ],
   "source": [
    "import matplotlib.pyplot as plt\n",
    "#data.plot(yscale='log')\n",
    "f1 = data.plot(kind ='bar',x = 'Year', y = 'Crude Oil')\n",
    "f1.set_title('Crude Oil Import -India')\n",
    "f1.set_ylabel('Barrels per day')"
   ]
  },
  {
   "cell_type": "code",
   "execution_count": 21,
   "metadata": {},
   "outputs": [
    {
     "data": {
      "text/plain": [
       "Text(0.5, 1.0, 'Production Variation of Petroleum Products')"
      ]
     },
     "execution_count": 21,
     "metadata": {},
     "output_type": "execute_result"
    },
    {
     "data": {
      "image/png": "[encoded data removed]",
      "text/plain": [
       "<Figure size 432x288 with 1 Axes>"
      ]
     },
     "metadata": {
      "needs_background": "light"
     },
     "output_type": "display_data"
    }
   ],
   "source": [
    "f2 = data.boxplot(column =['Petrol','Diesel','Naphtha','Turbine Fuel','Diesel'])\n",
    "f2.set_ylabel('Barrels per day')\n",
    "f2.set_xlabel('Products')\n",
    "f2.set_title('Production Variation of Petroleum Products')"
   ]
  },
  {
   "cell_type": "code",
   "execution_count": 20,
   "metadata": {},
   "outputs": [
    {
     "data": {
      "text/plain": [
       "Text(0.5, 1.0, 'Import vs Export in Barrels per day')"
      ]
     },
     "execution_count": 20,
     "metadata": {},
     "output_type": "execute_result"
    },
    {
     "data": {
      "image/png": "[encoded data removed]",
      "text/plain": [
       "<Figure size 432x288 with 1 Axes>"
      ]
     },
     "metadata": {
      "needs_background": "light"
     },
     "output_type": "display_data"
    }
   ],
   "source": [
    "f3 = data.plot(kind ='scatter',x = 'Total Import', y = 'Total Export')\n",
    "f3.set_title('Import vs Export in Barrels per day')\n"
   ]
  },
  {
   "cell_type": "code",
   "execution_count": null,
   "metadata": {},
   "outputs": [],
   "source": []
  },
  {
   "cell_type": "code",
   "execution_count": null,
   "metadata": {},
   "outputs": [],
   "source": []
  }
 ],
 "metadata": {
  "kernelspec": {
   "display_name": "Python 3",
   "language": "python",
   "name": "python3"
  },
  "language_info": {
   "codemirror_mode": {
    "name": "ipython",
    "version": 3
   },
   "file_extension": ".py",
   "mimetype": "text/x-python",
   "name": "python",
   "nbconvert_exporter": "python",
   "pygments_lexer": "ipython3",
   "version": "3.7.3"
  }
 },
 "nbformat": 4,
 "nbformat_minor": 2
}
